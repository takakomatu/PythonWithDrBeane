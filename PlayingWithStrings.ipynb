{
 "cells": [
  {
   "cell_type": "markdown",
   "metadata": {},
   "source": [
    "# Lesson 02 - Strings\n",
    "\n",
    "### The following topics are discussed in this notebook:\n",
    "* An introduction to the string data type.\n",
    "* Escape characters.\n",
    "* Operations on strings.\n",
    "* String functions.\n",
    "\n",
    "### Additional Resources\n",
    "* Chapter 02 of **Python Crash Course**.\n",
    "* [DataCamp: Intro to Python for Data Science, Chapter 1](https://www.datacamp.com/courses/intro-to-python-for-data-science)\n",
    "\n"
   ]
  },
  {
   "cell_type": "markdown",
   "metadata": {},
   "source": [
    "## Introduction to Strings\n",
    "A string object is a piece of text, or in otherwords, a collection of characters. When defining a string, we must put the characters that compose it inside either single or double quotes. These quotes are what allows Python to distinguish between a string and a command. "
   ]
  },
  {
   "cell_type": "code",
   "execution_count": null,
   "metadata": {},
   "outputs": [],
   "source": [
    "my_string = \"Hello world!\"\n",
    "print(my_string)"
   ]
  },
  {
   "cell_type": "code",
   "execution_count": null,
   "metadata": {},
   "outputs": [],
   "source": [
    "type(my_string)"
   ]
  },
  {
   "cell_type": "markdown",
   "metadata": {},
   "source": [
    "The `print()` function is able to take several strings as arguments."
   ]
  },
  {
   "cell_type": "code",
   "execution_count": null,
   "metadata": {},
   "outputs": [],
   "source": [
    "a = \"foo\"\n",
    "b = \"bar\"\n",
    "print(a, b)"
   ]
  },
  {
   "cell_type": "markdown",
   "metadata": {},
   "source": [
    "## Escape Sequences\n",
    "An **escape sequence** is a sequence of characters that Python applies special meaning to when it encounters them in a string. Several common escape sequences are listed below.\n",
    "\n",
    "| Escape Character  | Result |\n",
    "|:---:|-----|\n",
    "| **\\'**  | Prints a single quote. |\n",
    "| **\\\"**  | Prints a double quote. |\n",
    "| **\\n**  | Inserts a new line. |\n",
    "| **\\t**  | Inserts a tab. |\n",
    "\n"
   ]
  },
  {
   "cell_type": "code",
   "execution_count": null,
   "metadata": {},
   "outputs": [],
   "source": [
    "quote = \"\\\"Python is awesome\\\", he said.\"\n",
    "print(quote)"
   ]
  },
  {
   "cell_type": "code",
   "execution_count": null,
   "metadata": {},
   "outputs": [],
   "source": [
    "tale2cities = \"It was the best of times.\\nIt was the worst of times.\"\n",
    "print(tale2cities)"
   ]
  },
  {
   "cell_type": "code",
   "execution_count": null,
   "metadata": {},
   "outputs": [],
   "source": [
    "print(\"Regular.\")\n",
    "print(\"\\tIndented.\")\n",
    "print(\"\\t\\tDouble indented.\")"
   ]
  },
  {
   "cell_type": "markdown",
   "metadata": {},
   "source": [
    "### Operations involving strings\n",
    "When the + symbol is used between strings, it combines, or **concatenates** the strings."
   ]
  },
  {
   "cell_type": "code",
   "execution_count": null,
   "metadata": {},
   "outputs": [],
   "source": [
    "a = \"star\"\n",
    "b = \"wars\"\n",
    "c = a + b\n",
    "print(c)"
   ]
  },
  {
   "cell_type": "code",
   "execution_count": null,
   "metadata": {},
   "outputs": [],
   "source": [
    "d = a + \" \" + b\n",
    "print(d)"
   ]
  },
  {
   "cell_type": "markdown",
   "metadata": {},
   "source": [
    "If we try to combine a string and a number with +, we will get an error."
   ]
  },
  {
   "cell_type": "code",
   "execution_count": null,
   "metadata": {},
   "outputs": [],
   "source": [
    "print(\"one\" + 2)"
   ]
  },
  {
   "cell_type": "markdown",
   "metadata": {},
   "source": [
    "Note that numbers enclosed with quotes are also considered strings. Python does not recongnize them as numbers."
   ]
  },
  {
   "cell_type": "code",
   "execution_count": null,
   "metadata": {},
   "outputs": [],
   "source": [
    "print(\"1\" + 2)"
   ]
  },
  {
   "cell_type": "markdown",
   "metadata": {},
   "source": [
    "Although we are not able to \"add\" strings to numbers, we are able to \"multiply\" a string by a number. "
   ]
  },
  {
   "cell_type": "code",
   "execution_count": null,
   "metadata": {},
   "outputs": [],
   "source": [
    "print(\"blah \" * 5)"
   ]
  },
  {
   "cell_type": "markdown",
   "metadata": {},
   "source": [
    "Since the product of a string and an integer produces another string, expressions of this type can be concatenated together."
   ]
  },
  {
   "cell_type": "code",
   "execution_count": null,
   "metadata": {
    "scrolled": false
   },
   "outputs": [],
   "source": [
    "print(\"la \" * 4 + \"doo \" * 3)"
   ]
  },
  {
   "cell_type": "markdown",
   "metadata": {},
   "source": [
    "Python does **NOT** know how to \"multiply\" two strings. "
   ]
  },
  {
   "cell_type": "code",
   "execution_count": null,
   "metadata": {
    "scrolled": true
   },
   "outputs": [],
   "source": [
    "a = \"foo\"\n",
    "b = \"bar\"\n",
    "print(a*b)"
   ]
  },
  {
   "cell_type": "markdown",
   "metadata": {
    "collapsed": true
   },
   "source": [
    "### String Functions\n",
    "Python has several built-in functions for working with strings. \n",
    "\n",
    "The `len()` function allows you to determine the length of a string."
   ]
  },
  {
   "cell_type": "code",
   "execution_count": null,
   "metadata": {},
   "outputs": [],
   "source": [
    "x = \"There are 39 characters in this string.\"\n",
    "print(len(x))"
   ]
  },
  {
   "cell_type": "markdown",
   "metadata": {},
   "source": [
    "## Methods\n",
    "\n",
    "The majority of the functions we will encounter when working with strings are **methods**. The difference between a method and other types of functions we will encounter is subtle, and is not something we are yet ready to fully dive into. For now, we simply note the following two points regarding methods:\n",
    "1. To use a method on a string, type the name of the string, followed by a dot, followed by the name of the method.\n",
    "2. The string itself is always passed to the method as the first argument. "
   ]
  },
  {
   "cell_type": "code",
   "execution_count": null,
   "metadata": {},
   "outputs": [],
   "source": [
    "myString = \"There's a method in the madness.\"\n",
    "print(myString.upper())\n",
    "print(myString.lower())\n",
    "print(myString.title())"
   ]
  },
  {
   "cell_type": "code",
   "execution_count": null,
   "metadata": {},
   "outputs": [],
   "source": [
    "print( myString.count(\"m\") )\n",
    "print( myString.count(\"e\") )"
   ]
  },
  {
   "cell_type": "code",
   "execution_count": null,
   "metadata": {},
   "outputs": [],
   "source": [
    "a = \"a \"\n",
    "b =  \"no \"\n",
    "print( myString.replace(a, b) )"
   ]
  },
  {
   "cell_type": "markdown",
   "metadata": {},
   "source": [
    "### Converting numbers to strings\n",
    "We will often wish to print statements that involve both strings and numeric variables. To accomplish this, we can convert the numeric objects to strings using the `str()` function."
   ]
  },
  {
   "cell_type": "code",
   "execution_count": null,
   "metadata": {},
   "outputs": [],
   "source": [
    "x = 129\n",
    "x2 = x**2\n",
    "my_string = \"The square of \" + x + \" is \" + x2 + \".\""
   ]
  },
  {
   "cell_type": "code",
   "execution_count": null,
   "metadata": {},
   "outputs": [],
   "source": [
    "my_string = \"The square of \" + str(x) + \" is \" + str(x2) + \".\"\n",
    "print(my_string)"
   ]
  }
 ],
 "metadata": {
  "kernelspec": {
   "display_name": "Python 3",
   "language": "python",
   "name": "python3"
  },
  "language_info": {
   "codemirror_mode": {
    "name": "ipython",
    "version": 3
   },
   "file_extension": ".py",
   "mimetype": "text/x-python",
   "name": "python",
   "nbconvert_exporter": "python",
   "pygments_lexer": "ipython3",
   "version": "3.6.2"
  }
 },
 "nbformat": 4,
 "nbformat_minor": 2
}
